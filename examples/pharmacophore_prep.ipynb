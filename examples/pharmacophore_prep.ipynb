{
 "cells": [
  {
   "cell_type": "markdown",
   "metadata": {},
   "source": [
    "# Pharmacophore Input Preparation (RDKit + PyTorch Geometric)\n",
    "\n",
    "This script sets up the initial environment and dependencies for processing a molecular structure—likely related to a pharmacophore—using RDKit and PyTorch Geometric. It's designed to work with the PharmaDiff framework and prepare the required molecular data for downstream tasks such as graph construction, feature extraction, or pharmacophore-based inpainting."
   ]
  },
  {
   "cell_type": "code",
   "execution_count": 21,
   "metadata": {},
   "outputs": [],
   "source": [
    "from rdkit import Chem\n",
    "from rdkit.Chem import Draw\n",
    "import numpy as np\n",
    "import torch\n",
    "from torch_geometric.data import Data\n",
    "from torch_geometric.data import Data\n",
    "import pharmadiff.datasets.dataset_utils as dataset_utils\n",
    "\n",
    "\n",
    "from pharmadiff.datasets.pharmacophore_utils import get_features_factory\n",
    "\n"
   ]
  },
  {
   "cell_type": "markdown",
   "metadata": {},
   "source": [
    "### Pharmacophore Feature Encoding\n",
    "This section defines the pharmacophore types and atom encodings used in the model. These are essential for filtering relevant chemical features and encoding atom types as numerical input for neural networks."
   ]
  },
  {
   "cell_type": "code",
   "execution_count": 22,
   "metadata": {},
   "outputs": [],
   "source": [
    "\n",
    "PHARMACOPHORE_FAMILES_TO_KEEP= ('Aromatic', 'Hydrophobe', 'PosIonizable', 'Acceptor', 'Donor', \n",
    "                                 'LumpedHydrophobe')\n",
    "\n",
    "\n",
    "full_atom_encoder = {'H': 0, 'B': 1, 'C': 2, 'N': 3, 'O': 4, 'F': 5, 'Al': 6, 'Si': 7,\n",
    "                     'P': 8, 'S': 9, 'Cl': 10, 'As': 11, 'Br': 12, 'I': 13, 'Hg': 14, 'Bi': 15}\n",
    "\n",
    "\n",
    "FAMILY_MAPPING = {'Aromatic': 1, 'Hydrophobe': 2, 'PosIonizable': 3,\n",
    "                  'Acceptor': 4, 'Donor': 5, 'LumpedHydrophobe': 6}\n"
   ]
  },
  {
   "cell_type": "markdown",
   "metadata": {},
   "source": [
    "### make_pharmacophore() Function\n",
    "\n",
    "This function transforms selected RDKit pharmacophore features into a structured graph data format (torch_geometric.data.Data). It associates pharmacophore types and coordinates with atoms in a molecule, enabling the use of this information in graph neural networks for tasks like conditional molecule generation or evaluation."
   ]
  },
  {
   "cell_type": "code",
   "execution_count": 23,
   "metadata": {},
   "outputs": [],
   "source": [
    "\n",
    "def make_pharmacophore(selected_features, mol, pos_mean):\n",
    "    \n",
    "    feat_arr = np.empty(0)\n",
    "    idx_arr_list = []\n",
    "    coord_arr = np.empty(0)\n",
    "\n",
    "\n",
    "    \n",
    "    for f in selected_features:\n",
    "        idx_arr = np.empty(0)\n",
    "        if len(f.GetAtomIds()) > 1:\n",
    "            for idx in f.GetAtomIds():\n",
    "                idx_arr = np.append(idx_arr, np.array(idx))\n",
    "\n",
    "        else:\n",
    "            idx_arr = np.append(idx_arr, np.array(list(f.GetAtomIds())))\n",
    "                \n",
    "            \n",
    "        feat_arr = np.append(feat_arr, np.array(FAMILY_MAPPING[f.GetFamily()]))\n",
    "        coord_arr= np.append(coord_arr, np.array(f.GetPos(confId=f.GetActiveConformer())))\n",
    "        idx_arr_list.append(idx_arr)\n",
    "        \n",
    "    coord_arr = coord_arr.reshape(-1, 3)\n",
    "\n",
    "\n",
    "        \n",
    "    n = mol.GetNumAtoms()\n",
    "\n",
    "    feat_array = np.zeros(n)\n",
    "    coord_array = np.zeros((n, 3))\n",
    "    mask_array = np.zeros(n)\n",
    "    \n",
    "\n",
    "    \n",
    "    for i, idx_list in enumerate(idx_arr_list):\n",
    "        for idx in idx_list:\n",
    "            feat_array[int(idx)] = feat_arr[i]\n",
    "            coord_array[int(idx)] = coord_arr[i]\n",
    "            mask_array[int(idx)] = 1\n",
    "        \n",
    "    coord_array = torch.Tensor(coord_array).float()\n",
    "\n",
    "    coord_array = coord_array - pos_mean    \n",
    "    pharma_feat = torch.Tensor(feat_array).long()\n",
    "    mask_array = torch.Tensor(mask_array).long()\n",
    "    #coord_array = coord_array - torch.mean(coord_array, dim=0, keepdim=True)\n",
    "    coord_array = coord_array  * mask_array.unsqueeze(-1)\n",
    "\n",
    "    pharma = Data(x = pharma_feat, pos = coord_array, y=mask_array)\n",
    "\n",
    "    return pharma\n",
    "        "
   ]
  },
  {
   "cell_type": "markdown",
   "metadata": {},
   "source": [
    "#### Molecule Loading from SDF\n",
    "This section loads the ligand structure from an .sdf file, using RDKit’s SDMolSupplier.\n"
   ]
  },
  {
   "cell_type": "code",
   "execution_count": 24,
   "metadata": {},
   "outputs": [
    {
     "data": {
      "text/plain": [
       "rdkit.Chem.rdmolops.SanitizeFlags.SANITIZE_NONE"
      ]
     },
     "execution_count": 24,
     "metadata": {},
     "output_type": "execute_result"
    }
   ],
   "source": [
    "sdf_file = f\"ligand_6b8y.sdf\"  # Replace with your SDF file name\n",
    "\n",
    "supplier = Chem.SDMolSupplier(sdf_file, sanitize=False)\n",
    "\n",
    "mol = next(supplier)  # Use mol = supplier[0] if you are sure the file isn't empty4\n",
    "Chem.SanitizeMol(mol)"
   ]
  },
  {
   "cell_type": "markdown",
   "metadata": {},
   "source": [
    "#### Visualize Molecule and Inspect Atom Coordinates\n",
    "This section processes the loaded molecule by removing hydrogens, assigning atom indices, rendering a 2D image with annotated atom labels, and printing 3D coordinates for each atom."
   ]
  },
  {
   "cell_type": "code",
   "execution_count": 25,
   "metadata": {},
   "outputs": [
    {
     "data": {
      "image/png": "[encoded data removed]",
      "text/plain": [
       "<PIL.PngImagePlugin.PngImageFile image mode=RGB size=400x400>"
      ]
     },
     "metadata": {},
     "output_type": "display_data"
    },
    {
     "name": "stdout",
     "output_type": "stream",
     "text": [
      "Atom 0 (C): x=4.156, y=7.382, z=3.021\n",
      "Atom 1 (C): x=1.896, y=6.644, z=3.227\n",
      "Atom 2 (C): x=1.907, y=6.388, z=1.860\n",
      "Atom 3 (C): x=5.959, y=11.173, z=4.124\n",
      "Atom 4 (C): x=6.755, y=12.011, z=3.365\n",
      "Atom 5 (C): x=8.069, y=12.212, z=3.729\n",
      "Atom 6 (C): x=8.557, y=11.557, z=4.849\n",
      "Atom 7 (C): x=10.013, y=11.586, z=5.230\n",
      "Atom 8 (C): x=6.509, y=10.553, z=5.245\n",
      "Atom 9 (C): x=3.036, y=7.165, z=3.829\n",
      "Atom 10 (C): x=4.213, y=7.661, z=7.303\n",
      "Atom 11 (C): x=5.238, y=8.451, z=7.943\n",
      "Atom 12 (N): x=5.979, y=9.390, z=7.321\n",
      "Atom 13 (C): x=5.669, y=9.606, z=6.029\n",
      "Atom 14 (N): x=4.685, y=8.996, z=5.353\n",
      "Atom 15 (C): x=3.984, y=8.032, z=5.946\n",
      "Atom 16 (C): x=3.729, y=6.723, z=8.280\n",
      "Atom 17 (C): x=4.409, y=6.980, z=9.428\n",
      "Atom 18 (N): x=5.291, y=8.015, z=9.234\n",
      "Atom 19 (N): x=3.043, y=7.371, z=5.215\n",
      "Atom 20 (C): x=4.077, y=7.067, z=1.675\n",
      "Atom 21 (N): x=2.982, y=6.578, z=1.089\n",
      "Atom 22 (F): x=0.853, y=6.311, z=4.032\n",
      "Atom 23 (N): x=7.793, y=10.754, z=5.610\n",
      "Atom 24 (F): x=10.206, y=11.945, z=6.509\n",
      "Atom 25 (F): x=10.552, y=10.398, z=5.101\n",
      "Atom 26 (F): x=10.723, y=12.434, z=4.459\n"
     ]
    }
   ],
   "source": [
    "mol = Chem.RemoveHs(mol)\n",
    "\n",
    "if mol:\n",
    "    # Add atom indices\n",
    "    for atom in mol.GetAtoms():\n",
    "        atom.SetProp(\"molAtomMapNumber\", str(atom.GetIdx()))\n",
    "\n",
    "    # Draw the molecule with atom numbering\n",
    "    img = Draw.MolToImage(mol, size=(400, 400))\n",
    "    img.show()\n",
    "else:\n",
    "    print(\"No valid molecule found in the SDF file.\")\n",
    "    \n",
    "\n",
    "conf = mol.GetConformer()\n",
    "\n",
    "for atom in mol.GetAtoms():\n",
    "    idx = atom.GetIdx()\n",
    "    pos = conf.GetAtomPosition(idx)\n",
    "    print(f\"Atom {idx} ({atom.GetSymbol()}): x={pos.x:.3f}, y={pos.y:.3f}, z={pos.z:.3f}\")"
   ]
  },
  {
   "cell_type": "markdown",
   "metadata": {},
   "source": [
    "### Extract Pharmacophoric Features from Molecule\n",
    "This section prepares the molecule for pharmacophore extraction, generates features using RDKit’s chemical feature factory, and selects a subset of features to use in downstream applications (e.g., PharmaDiff input preparation)."
   ]
  },
  {
   "cell_type": "code",
   "execution_count": 26,
   "metadata": {},
   "outputs": [
    {
     "name": "stdout",
     "output_type": "stream",
     "text": [
      "Feature: Donor, Atoms: (12,), coords: [5.979 9.39  7.321]\n",
      "Feature: Donor, Atoms: (18,), coords: [5.291 8.015 9.234]\n",
      "Feature: Donor, Atoms: (19,), coords: [3.043 7.371 5.215]\n",
      "Feature: Acceptor, Atoms: (12,), coords: [5.979 9.39  7.321]\n",
      "Feature: Acceptor, Atoms: (14,), coords: [4.685 8.996 5.353]\n",
      "Feature: Acceptor, Atoms: (21,), coords: [2.982 6.578 1.089]\n",
      "Feature: Acceptor, Atoms: (22,), coords: [0.853 6.311 4.032]\n",
      "Feature: Acceptor, Atoms: (23,), coords: [ 7.793 10.754  5.61 ]\n",
      "Feature: Aromatic, Atoms: (10, 11, 18, 17, 16), coords: [4.576  7.566  8.4376]\n",
      "Feature: Aromatic, Atoms: (0, 9, 1, 2, 21, 20), coords: [3.009      6.87066667 2.45016667]\n",
      "Feature: Aromatic, Atoms: (3, 4, 5, 6, 23, 8), coords: [ 7.27366667 11.37666667  4.487     ]\n",
      "Feature: Aromatic, Atoms: (10, 11, 12, 13, 14, 15), coords: [4.96133333 8.68933333 6.64916667]\n",
      "Feature: Hydrophobe, Atoms: (0,), coords: [4.156 7.382 3.021]\n",
      "Feature: Hydrophobe, Atoms: (3,), coords: [ 5.959 11.173  4.124]\n",
      "Feature: Hydrophobe, Atoms: (4,), coords: [ 6.755 12.011  3.365]\n",
      "Feature: Hydrophobe, Atoms: (5,), coords: [ 8.069 12.212  3.729]\n",
      "Feature: Hydrophobe, Atoms: (10,), coords: [4.213 7.661 7.303]\n",
      "Feature: Hydrophobe, Atoms: (16,), coords: [3.729 6.723 8.28 ]\n"
     ]
    }
   ],
   "source": [
    "Chem.GetSSSR(mol)  # Optional: Ensure ring info is available\n",
    "Chem.SanitizeMol(mol)\n",
    "mol = Chem.AddHs(mol)\n",
    "\n",
    "feature_factory, keep_featnames = get_features_factory(PHARMACOPHORE_FAMILES_TO_KEEP)\n",
    "\n",
    "# Extract features\n",
    "rawFeats = feature_factory.GetFeaturesForMol(mol, confId=-1)\n",
    "\n",
    "# Print features\n",
    "for f in rawFeats:\n",
    "    print(f\"Feature: {f.GetFamily()}, Atoms: {f.GetAtomIds()}, coords: {np.array(f.GetPos(confId=f.GetActiveConformer()))}\")\n",
    "\n",
    "\n",
    "#### Select features\n",
    "selected_indeces =  [3, 5, 10, 12]\n",
    "selected_features = [rawFeats[i] for i in selected_indeces]\n"
   ]
  },
  {
   "cell_type": "code",
   "execution_count": 35,
   "metadata": {},
   "outputs": [
    {
     "name": "stdout",
     "output_type": "stream",
     "text": [
      "Feature: Acceptor, Atoms: (12,), coords: [5.979 9.39  7.321]\n",
      "Feature: Acceptor, Atoms: (21,), coords: [2.982 6.578 1.089]\n",
      "Feature: Aromatic, Atoms: (3, 4, 5, 6, 23, 8), coords: [ 7.27366667 11.37666667  4.487     ]\n",
      "Feature: Hydrophobe, Atoms: (0,), coords: [4.156 7.382 3.021]\n"
     ]
    }
   ],
   "source": [
    "\n",
    "## Print selected features\n",
    "for f in selected_features:\n",
    "    print(f\"Feature: {f.GetFamily()}, Atoms: {f.GetAtomIds()}, coords: {np.array(f.GetPos())}\")"
   ]
  },
  {
   "cell_type": "markdown",
   "metadata": {},
   "source": [
    "#### Full Molecule and Pharmacophore Preprocessing Pipeline\n",
    "This block processes a molecule by cleaning, sanitizing, converting it into a graph representation, extracting pharmacophore features, and preparing pharmacophore graph data — all while removing hydrogens for model readiness."
   ]
  },
  {
   "cell_type": "code",
   "execution_count": 36,
   "metadata": {},
   "outputs": [],
   "source": [
    "\n",
    "mol = Chem.RemoveHs(mol)\n",
    "Chem.SanitizeMol(mol)\n",
    "Chem.Kekulize(mol)\n",
    "\n",
    "mol_data, pos_mean = dataset_utils.mol_to_torch_geometric(mol, full_atom_encoder, Chem.MolToSmiles(mol))\n",
    "\n",
    "pharma_data = make_pharmacophore(selected_features, mol, pos_mean)\n",
    "\n",
    "mol_data, pharma_data  = dataset_utils.remove_hydrogens(mol_data, pharma_data)\n"
   ]
  },
  {
   "cell_type": "markdown",
   "metadata": {},
   "source": [
    "#### Batch Graphs and Save as Pickle File\n",
    "This section demonstrates how to batch molecular and pharmacophore graph data for model input and save the resulting batch in a .pkl file for later use."
   ]
  },
  {
   "cell_type": "code",
   "execution_count": 37,
   "metadata": {},
   "outputs": [],
   "source": [
    "from torch_geometric.data import Batch\n",
    "\n",
    "mol_batch = batch = Batch.from_data_list([mol_data])\n",
    "pharma_batch = Batch.from_data_list([pharma_data])\n",
    "\n",
    "data = {'ligand': mol_batch, 'pharmacophore': pharma_batch}\n",
    "\n",
    "\n",
    "\n",
    "## if more than one pharmacophore: you need to collate\n",
    "import pickle\n",
    "with open('6b8y.pkl', 'wb') as f:\n",
    "    pickle.dump(data, f)"
   ]
  }
 ],
 "metadata": {
  "kernelspec": {
   "display_name": "midi",
   "language": "python",
   "name": "python3"
  },
  "language_info": {
   "codemirror_mode": {
    "name": "ipython",
    "version": 3
   },
   "file_extension": ".py",
   "mimetype": "text/x-python",
   "name": "python",
   "nbconvert_exporter": "python",
   "pygments_lexer": "ipython3",
   "version": "3.9.20"
  }
 },
 "nbformat": 4,
 "nbformat_minor": 2
}
